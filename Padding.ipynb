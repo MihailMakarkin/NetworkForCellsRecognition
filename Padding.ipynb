{
 "cells": [
  {
   "cell_type": "code",
   "execution_count": null,
   "metadata": {},
   "outputs": [],
   "source": [
    "def resize_with_pad(image, height=IMAGE_SIZE, width=IMAGE_SIZE):\n",
    "\n",
    "    def get_padding_size(image):\n",
    "        h, w, _ = image.shape\n",
    "        longest_edge = max(h, w)\n",
    "        top, bottom, left, right = (0, 0, 0, 0)\n",
    "        if h < longest_edge:\n",
    "            dh = longest_edge - h\n",
    "            top = dh // 2\n",
    "            bottom = dh - top\n",
    "        elif w < longest_edge:\n",
    "            dw = longest_edge - w\n",
    "            left = dw // 2\n",
    "            right = dw - left\n",
    "        else:\n",
    "            pass\n",
    "        return top, bottom, left, right"
   ]
  },
  {
   "cell_type": "code",
   "execution_count": null,
   "metadata": {},
   "outputs": [],
   "source": [
    "top, bottom, left, right = get_padding_size(image)\n",
    "    BLACK = [0, 0, 0]\n",
    "    constant = cv2.copyMakeBorder(image, top , bottom, left, right, cv2.BORDER_CONSTANT, value=BLACK)\n",
    "\n",
    "    resized_image = cv2.resize(constant, (height, width))\n",
    "\n",
    "    return resized_image "
   ]
  }
 ],
 "metadata": {
  "kernelspec": {
   "display_name": "Python 3",
   "language": "python",
   "name": "python3"
  },
  "language_info": {
   "codemirror_mode": {
    "name": "ipython",
    "version": 3
   },
   "file_extension": ".py",
   "mimetype": "text/x-python",
   "name": "python",
   "nbconvert_exporter": "python",
   "pygments_lexer": "ipython3",
   "version": "3.6.7"
  }
 },
 "nbformat": 4,
 "nbformat_minor": 2
}
